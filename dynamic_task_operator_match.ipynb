{
  "nbformat": 4,
  "nbformat_minor": 0,
  "metadata": {
    "colab": {
      "provenance": [],
      "include_colab_link": true
    },
    "kernelspec": {
      "name": "python3",
      "display_name": "Python 3"
    },
    "language_info": {
      "name": "python"
    }
  },
  "cells": [
    {
      "cell_type": "markdown",
      "metadata": {
        "id": "view-in-github",
        "colab_type": "text"
      },
      "source": [
        "<a href=\"https://colab.research.google.com/github/Srisaivarsha27/cat-safety-sim/blob/main/dynamic_task_operator_match.ipynb\" target=\"_parent\"><img src=\"https://colab.research.google.com/assets/colab-badge.svg\" alt=\"Open In Colab\"/></a>"
      ]
    },
    {
      "cell_type": "markdown",
      "source": [
        "#                        Problem Statement\n",
        "In large-scale industrial operations, matching the right operator to the right task is critical for efficiency, safety, and timely completion. This project builds a machine learning model to:\n",
        "\n",
        "1) Classify whether a given task-operator pair is a good match (✅ or ❌).\n",
        "\n",
        "2) Predict the time it would take for the operator to complete the task."
      ],
      "metadata": {
        "id": "1586ti8L8B7D"
      }
    },
    {
      "cell_type": "markdown",
      "source": [
        "# Step 1: Upload Dataset\n",
        "Upload the dataset from your local system into the Colab environment."
      ],
      "metadata": {
        "id": "VjLfnqZP8nuG"
      }
    },
    {
      "cell_type": "code",
      "execution_count": null,
      "metadata": {
        "colab": {
          "base_uri": "https://localhost:8080/",
          "height": 72
        },
        "id": "ghzPHso6YbgH",
        "outputId": "670a84cf-e02f-41ee-b22e-007cd42a743d"
      },
      "outputs": [
        {
          "output_type": "display_data",
          "data": {
            "text/plain": [
              "<IPython.core.display.HTML object>"
            ],
            "text/html": [
              "\n",
              "     <input type=\"file\" id=\"files-cc972358-6af1-4763-8041-fa3a67d414c9\" name=\"files[]\" multiple disabled\n",
              "        style=\"border:none\" />\n",
              "     <output id=\"result-cc972358-6af1-4763-8041-fa3a67d414c9\">\n",
              "      Upload widget is only available when the cell has been executed in the\n",
              "      current browser session. Please rerun this cell to enable.\n",
              "      </output>\n",
              "      <script>// Copyright 2017 Google LLC\n",
              "//\n",
              "// Licensed under the Apache License, Version 2.0 (the \"License\");\n",
              "// you may not use this file except in compliance with the License.\n",
              "// You may obtain a copy of the License at\n",
              "//\n",
              "//      http://www.apache.org/licenses/LICENSE-2.0\n",
              "//\n",
              "// Unless required by applicable law or agreed to in writing, software\n",
              "// distributed under the License is distributed on an \"AS IS\" BASIS,\n",
              "// WITHOUT WARRANTIES OR CONDITIONS OF ANY KIND, either express or implied.\n",
              "// See the License for the specific language governing permissions and\n",
              "// limitations under the License.\n",
              "\n",
              "/**\n",
              " * @fileoverview Helpers for google.colab Python module.\n",
              " */\n",
              "(function(scope) {\n",
              "function span(text, styleAttributes = {}) {\n",
              "  const element = document.createElement('span');\n",
              "  element.textContent = text;\n",
              "  for (const key of Object.keys(styleAttributes)) {\n",
              "    element.style[key] = styleAttributes[key];\n",
              "  }\n",
              "  return element;\n",
              "}\n",
              "\n",
              "// Max number of bytes which will be uploaded at a time.\n",
              "const MAX_PAYLOAD_SIZE = 100 * 1024;\n",
              "\n",
              "function _uploadFiles(inputId, outputId) {\n",
              "  const steps = uploadFilesStep(inputId, outputId);\n",
              "  const outputElement = document.getElementById(outputId);\n",
              "  // Cache steps on the outputElement to make it available for the next call\n",
              "  // to uploadFilesContinue from Python.\n",
              "  outputElement.steps = steps;\n",
              "\n",
              "  return _uploadFilesContinue(outputId);\n",
              "}\n",
              "\n",
              "// This is roughly an async generator (not supported in the browser yet),\n",
              "// where there are multiple asynchronous steps and the Python side is going\n",
              "// to poll for completion of each step.\n",
              "// This uses a Promise to block the python side on completion of each step,\n",
              "// then passes the result of the previous step as the input to the next step.\n",
              "function _uploadFilesContinue(outputId) {\n",
              "  const outputElement = document.getElementById(outputId);\n",
              "  const steps = outputElement.steps;\n",
              "\n",
              "  const next = steps.next(outputElement.lastPromiseValue);\n",
              "  return Promise.resolve(next.value.promise).then((value) => {\n",
              "    // Cache the last promise value to make it available to the next\n",
              "    // step of the generator.\n",
              "    outputElement.lastPromiseValue = value;\n",
              "    return next.value.response;\n",
              "  });\n",
              "}\n",
              "\n",
              "/**\n",
              " * Generator function which is called between each async step of the upload\n",
              " * process.\n",
              " * @param {string} inputId Element ID of the input file picker element.\n",
              " * @param {string} outputId Element ID of the output display.\n",
              " * @return {!Iterable<!Object>} Iterable of next steps.\n",
              " */\n",
              "function* uploadFilesStep(inputId, outputId) {\n",
              "  const inputElement = document.getElementById(inputId);\n",
              "  inputElement.disabled = false;\n",
              "\n",
              "  const outputElement = document.getElementById(outputId);\n",
              "  outputElement.innerHTML = '';\n",
              "\n",
              "  const pickedPromise = new Promise((resolve) => {\n",
              "    inputElement.addEventListener('change', (e) => {\n",
              "      resolve(e.target.files);\n",
              "    });\n",
              "  });\n",
              "\n",
              "  const cancel = document.createElement('button');\n",
              "  inputElement.parentElement.appendChild(cancel);\n",
              "  cancel.textContent = 'Cancel upload';\n",
              "  const cancelPromise = new Promise((resolve) => {\n",
              "    cancel.onclick = () => {\n",
              "      resolve(null);\n",
              "    };\n",
              "  });\n",
              "\n",
              "  // Wait for the user to pick the files.\n",
              "  const files = yield {\n",
              "    promise: Promise.race([pickedPromise, cancelPromise]),\n",
              "    response: {\n",
              "      action: 'starting',\n",
              "    }\n",
              "  };\n",
              "\n",
              "  cancel.remove();\n",
              "\n",
              "  // Disable the input element since further picks are not allowed.\n",
              "  inputElement.disabled = true;\n",
              "\n",
              "  if (!files) {\n",
              "    return {\n",
              "      response: {\n",
              "        action: 'complete',\n",
              "      }\n",
              "    };\n",
              "  }\n",
              "\n",
              "  for (const file of files) {\n",
              "    const li = document.createElement('li');\n",
              "    li.append(span(file.name, {fontWeight: 'bold'}));\n",
              "    li.append(span(\n",
              "        `(${file.type || 'n/a'}) - ${file.size} bytes, ` +\n",
              "        `last modified: ${\n",
              "            file.lastModifiedDate ? file.lastModifiedDate.toLocaleDateString() :\n",
              "                                    'n/a'} - `));\n",
              "    const percent = span('0% done');\n",
              "    li.appendChild(percent);\n",
              "\n",
              "    outputElement.appendChild(li);\n",
              "\n",
              "    const fileDataPromise = new Promise((resolve) => {\n",
              "      const reader = new FileReader();\n",
              "      reader.onload = (e) => {\n",
              "        resolve(e.target.result);\n",
              "      };\n",
              "      reader.readAsArrayBuffer(file);\n",
              "    });\n",
              "    // Wait for the data to be ready.\n",
              "    let fileData = yield {\n",
              "      promise: fileDataPromise,\n",
              "      response: {\n",
              "        action: 'continue',\n",
              "      }\n",
              "    };\n",
              "\n",
              "    // Use a chunked sending to avoid message size limits. See b/62115660.\n",
              "    let position = 0;\n",
              "    do {\n",
              "      const length = Math.min(fileData.byteLength - position, MAX_PAYLOAD_SIZE);\n",
              "      const chunk = new Uint8Array(fileData, position, length);\n",
              "      position += length;\n",
              "\n",
              "      const base64 = btoa(String.fromCharCode.apply(null, chunk));\n",
              "      yield {\n",
              "        response: {\n",
              "          action: 'append',\n",
              "          file: file.name,\n",
              "          data: base64,\n",
              "        },\n",
              "      };\n",
              "\n",
              "      let percentDone = fileData.byteLength === 0 ?\n",
              "          100 :\n",
              "          Math.round((position / fileData.byteLength) * 100);\n",
              "      percent.textContent = `${percentDone}% done`;\n",
              "\n",
              "    } while (position < fileData.byteLength);\n",
              "  }\n",
              "\n",
              "  // All done.\n",
              "  yield {\n",
              "    response: {\n",
              "      action: 'complete',\n",
              "    }\n",
              "  };\n",
              "}\n",
              "\n",
              "scope.google = scope.google || {};\n",
              "scope.google.colab = scope.google.colab || {};\n",
              "scope.google.colab._files = {\n",
              "  _uploadFiles,\n",
              "  _uploadFilesContinue,\n",
              "};\n",
              "})(self);\n",
              "</script> "
            ]
          },
          "metadata": {}
        },
        {
          "output_type": "stream",
          "name": "stdout",
          "text": [
            "Saving operator_task_dataset.csv to operator_task_dataset (4).csv\n"
          ]
        }
      ],
      "source": [
        "from google.colab import files\n",
        "uploaded = files.upload()  # Upload your CSV dataset\n"
      ]
    },
    {
      "cell_type": "markdown",
      "source": [
        "# Step 2: Import Required Libraries\n",
        "Import essential libraries for data handling, model building, and evaluation.\n"
      ],
      "metadata": {
        "id": "G1JEMKVV887J"
      }
    },
    {
      "cell_type": "code",
      "source": [
        "# 📌 Step 1: Import Libraries\n",
        "import pandas as pd\n",
        "import numpy as np\n",
        "from sklearn.model_selection import train_test_split\n",
        "from sklearn.preprocessing import LabelEncoder, StandardScaler\n",
        "from sklearn.ensemble import RandomForestClassifier, RandomForestRegressor\n",
        "from sklearn.metrics import accuracy_score, mean_absolute_error\n",
        "import joblib\n",
        "\n",
        "# 📌 Step 2: Load Dataset\n",
        "df = pd.read_csv(\"operator_task_dataset.csv\")\n",
        "df.head()"
      ],
      "metadata": {
        "colab": {
          "base_uri": "https://localhost:8080/",
          "height": 226
        },
        "id": "9Crc32hB7mbL",
        "outputId": "6db489ee-0bd4-4cc9-8914-89c13d02550b"
      },
      "execution_count": null,
      "outputs": [
        {
          "output_type": "execute_result",
          "data": {
            "text/plain": [
              "  Operator_ID  Experience_Yrs  Familiarity_Score  Safety_Score  Fatigue_Score  \\\n",
              "0      OP1163             5.0               0.82          0.65           0.59   \n",
              "1      OP1026             3.9               0.77          0.07           0.64   \n",
              "2      OP1059             4.4               0.75          0.72           0.46   \n",
              "3      OP1071             3.8               0.93          0.63           0.47   \n",
              "4      OP1195             3.0               0.67          0.46           0.21   \n",
              "\n",
              "   Previous_Accident_Count  Tasks_Completed_Count Task_Type Terrain  \\\n",
              "0                        0                    119      Load   Rocky   \n",
              "1                        0                     85      Lift   Rocky   \n",
              "2                        2                    106      Lift   Rocky   \n",
              "3                        1                     85      Load   Muddy   \n",
              "4                        2                     48     Carry   Rocky   \n",
              "\n",
              "  Task_Complexity_Level  Max_Allowed_Time Weather_Condition Machine_Type  \\\n",
              "0                Medium             18.87             Rainy       DZR002   \n",
              "1                Medium             40.91             Sunny       EXC001   \n",
              "2                Medium             55.31             Windy       DZR002   \n",
              "3                Medium             62.94            Cloudy       LDR003   \n",
              "4                   Low             48.46             Sunny       LDR003   \n",
              "\n",
              "   Time_Taken  Is_Good_Match  Shift_Hours_Worked Operator_Preference_Level  \\\n",
              "0       22.85              0                   6                       Low   \n",
              "1       39.90              1                   9                       Low   \n",
              "2       62.47              0                   6                    Medium   \n",
              "3       66.01              0                  10                       Low   \n",
              "4       44.22              1                  10                      High   \n",
              "\n",
              "   Seatbelt_Compliance_Rate  \n",
              "0                      0.99  \n",
              "1                      0.95  \n",
              "2                      0.60  \n",
              "3                      0.90  \n",
              "4                      0.90  "
            ],
            "text/html": [
              "\n",
              "  <div id=\"df-8ddb2e32-ee80-4109-8ac7-29d15f69d742\" class=\"colab-df-container\">\n",
              "    <div>\n",
              "<style scoped>\n",
              "    .dataframe tbody tr th:only-of-type {\n",
              "        vertical-align: middle;\n",
              "    }\n",
              "\n",
              "    .dataframe tbody tr th {\n",
              "        vertical-align: top;\n",
              "    }\n",
              "\n",
              "    .dataframe thead th {\n",
              "        text-align: right;\n",
              "    }\n",
              "</style>\n",
              "<table border=\"1\" class=\"dataframe\">\n",
              "  <thead>\n",
              "    <tr style=\"text-align: right;\">\n",
              "      <th></th>\n",
              "      <th>Operator_ID</th>\n",
              "      <th>Experience_Yrs</th>\n",
              "      <th>Familiarity_Score</th>\n",
              "      <th>Safety_Score</th>\n",
              "      <th>Fatigue_Score</th>\n",
              "      <th>Previous_Accident_Count</th>\n",
              "      <th>Tasks_Completed_Count</th>\n",
              "      <th>Task_Type</th>\n",
              "      <th>Terrain</th>\n",
              "      <th>Task_Complexity_Level</th>\n",
              "      <th>Max_Allowed_Time</th>\n",
              "      <th>Weather_Condition</th>\n",
              "      <th>Machine_Type</th>\n",
              "      <th>Time_Taken</th>\n",
              "      <th>Is_Good_Match</th>\n",
              "      <th>Shift_Hours_Worked</th>\n",
              "      <th>Operator_Preference_Level</th>\n",
              "      <th>Seatbelt_Compliance_Rate</th>\n",
              "    </tr>\n",
              "  </thead>\n",
              "  <tbody>\n",
              "    <tr>\n",
              "      <th>0</th>\n",
              "      <td>OP1163</td>\n",
              "      <td>5.0</td>\n",
              "      <td>0.82</td>\n",
              "      <td>0.65</td>\n",
              "      <td>0.59</td>\n",
              "      <td>0</td>\n",
              "      <td>119</td>\n",
              "      <td>Load</td>\n",
              "      <td>Rocky</td>\n",
              "      <td>Medium</td>\n",
              "      <td>18.87</td>\n",
              "      <td>Rainy</td>\n",
              "      <td>DZR002</td>\n",
              "      <td>22.85</td>\n",
              "      <td>0</td>\n",
              "      <td>6</td>\n",
              "      <td>Low</td>\n",
              "      <td>0.99</td>\n",
              "    </tr>\n",
              "    <tr>\n",
              "      <th>1</th>\n",
              "      <td>OP1026</td>\n",
              "      <td>3.9</td>\n",
              "      <td>0.77</td>\n",
              "      <td>0.07</td>\n",
              "      <td>0.64</td>\n",
              "      <td>0</td>\n",
              "      <td>85</td>\n",
              "      <td>Lift</td>\n",
              "      <td>Rocky</td>\n",
              "      <td>Medium</td>\n",
              "      <td>40.91</td>\n",
              "      <td>Sunny</td>\n",
              "      <td>EXC001</td>\n",
              "      <td>39.90</td>\n",
              "      <td>1</td>\n",
              "      <td>9</td>\n",
              "      <td>Low</td>\n",
              "      <td>0.95</td>\n",
              "    </tr>\n",
              "    <tr>\n",
              "      <th>2</th>\n",
              "      <td>OP1059</td>\n",
              "      <td>4.4</td>\n",
              "      <td>0.75</td>\n",
              "      <td>0.72</td>\n",
              "      <td>0.46</td>\n",
              "      <td>2</td>\n",
              "      <td>106</td>\n",
              "      <td>Lift</td>\n",
              "      <td>Rocky</td>\n",
              "      <td>Medium</td>\n",
              "      <td>55.31</td>\n",
              "      <td>Windy</td>\n",
              "      <td>DZR002</td>\n",
              "      <td>62.47</td>\n",
              "      <td>0</td>\n",
              "      <td>6</td>\n",
              "      <td>Medium</td>\n",
              "      <td>0.60</td>\n",
              "    </tr>\n",
              "    <tr>\n",
              "      <th>3</th>\n",
              "      <td>OP1071</td>\n",
              "      <td>3.8</td>\n",
              "      <td>0.93</td>\n",
              "      <td>0.63</td>\n",
              "      <td>0.47</td>\n",
              "      <td>1</td>\n",
              "      <td>85</td>\n",
              "      <td>Load</td>\n",
              "      <td>Muddy</td>\n",
              "      <td>Medium</td>\n",
              "      <td>62.94</td>\n",
              "      <td>Cloudy</td>\n",
              "      <td>LDR003</td>\n",
              "      <td>66.01</td>\n",
              "      <td>0</td>\n",
              "      <td>10</td>\n",
              "      <td>Low</td>\n",
              "      <td>0.90</td>\n",
              "    </tr>\n",
              "    <tr>\n",
              "      <th>4</th>\n",
              "      <td>OP1195</td>\n",
              "      <td>3.0</td>\n",
              "      <td>0.67</td>\n",
              "      <td>0.46</td>\n",
              "      <td>0.21</td>\n",
              "      <td>2</td>\n",
              "      <td>48</td>\n",
              "      <td>Carry</td>\n",
              "      <td>Rocky</td>\n",
              "      <td>Low</td>\n",
              "      <td>48.46</td>\n",
              "      <td>Sunny</td>\n",
              "      <td>LDR003</td>\n",
              "      <td>44.22</td>\n",
              "      <td>1</td>\n",
              "      <td>10</td>\n",
              "      <td>High</td>\n",
              "      <td>0.90</td>\n",
              "    </tr>\n",
              "  </tbody>\n",
              "</table>\n",
              "</div>\n",
              "    <div class=\"colab-df-buttons\">\n",
              "\n",
              "  <div class=\"colab-df-container\">\n",
              "    <button class=\"colab-df-convert\" onclick=\"convertToInteractive('df-8ddb2e32-ee80-4109-8ac7-29d15f69d742')\"\n",
              "            title=\"Convert this dataframe to an interactive table.\"\n",
              "            style=\"display:none;\">\n",
              "\n",
              "  <svg xmlns=\"http://www.w3.org/2000/svg\" height=\"24px\" viewBox=\"0 -960 960 960\">\n",
              "    <path d=\"M120-120v-720h720v720H120Zm60-500h600v-160H180v160Zm220 220h160v-160H400v160Zm0 220h160v-160H400v160ZM180-400h160v-160H180v160Zm440 0h160v-160H620v160ZM180-180h160v-160H180v160Zm440 0h160v-160H620v160Z\"/>\n",
              "  </svg>\n",
              "    </button>\n",
              "\n",
              "  <style>\n",
              "    .colab-df-container {\n",
              "      display:flex;\n",
              "      gap: 12px;\n",
              "    }\n",
              "\n",
              "    .colab-df-convert {\n",
              "      background-color: #E8F0FE;\n",
              "      border: none;\n",
              "      border-radius: 50%;\n",
              "      cursor: pointer;\n",
              "      display: none;\n",
              "      fill: #1967D2;\n",
              "      height: 32px;\n",
              "      padding: 0 0 0 0;\n",
              "      width: 32px;\n",
              "    }\n",
              "\n",
              "    .colab-df-convert:hover {\n",
              "      background-color: #E2EBFA;\n",
              "      box-shadow: 0px 1px 2px rgba(60, 64, 67, 0.3), 0px 1px 3px 1px rgba(60, 64, 67, 0.15);\n",
              "      fill: #174EA6;\n",
              "    }\n",
              "\n",
              "    .colab-df-buttons div {\n",
              "      margin-bottom: 4px;\n",
              "    }\n",
              "\n",
              "    [theme=dark] .colab-df-convert {\n",
              "      background-color: #3B4455;\n",
              "      fill: #D2E3FC;\n",
              "    }\n",
              "\n",
              "    [theme=dark] .colab-df-convert:hover {\n",
              "      background-color: #434B5C;\n",
              "      box-shadow: 0px 1px 3px 1px rgba(0, 0, 0, 0.15);\n",
              "      filter: drop-shadow(0px 1px 2px rgba(0, 0, 0, 0.3));\n",
              "      fill: #FFFFFF;\n",
              "    }\n",
              "  </style>\n",
              "\n",
              "    <script>\n",
              "      const buttonEl =\n",
              "        document.querySelector('#df-8ddb2e32-ee80-4109-8ac7-29d15f69d742 button.colab-df-convert');\n",
              "      buttonEl.style.display =\n",
              "        google.colab.kernel.accessAllowed ? 'block' : 'none';\n",
              "\n",
              "      async function convertToInteractive(key) {\n",
              "        const element = document.querySelector('#df-8ddb2e32-ee80-4109-8ac7-29d15f69d742');\n",
              "        const dataTable =\n",
              "          await google.colab.kernel.invokeFunction('convertToInteractive',\n",
              "                                                    [key], {});\n",
              "        if (!dataTable) return;\n",
              "\n",
              "        const docLinkHtml = 'Like what you see? Visit the ' +\n",
              "          '<a target=\"_blank\" href=https://colab.research.google.com/notebooks/data_table.ipynb>data table notebook</a>'\n",
              "          + ' to learn more about interactive tables.';\n",
              "        element.innerHTML = '';\n",
              "        dataTable['output_type'] = 'display_data';\n",
              "        await google.colab.output.renderOutput(dataTable, element);\n",
              "        const docLink = document.createElement('div');\n",
              "        docLink.innerHTML = docLinkHtml;\n",
              "        element.appendChild(docLink);\n",
              "      }\n",
              "    </script>\n",
              "  </div>\n",
              "\n",
              "\n",
              "    <div id=\"df-fb7d644b-c0ee-4fc4-9698-b4121f246d0e\">\n",
              "      <button class=\"colab-df-quickchart\" onclick=\"quickchart('df-fb7d644b-c0ee-4fc4-9698-b4121f246d0e')\"\n",
              "                title=\"Suggest charts\"\n",
              "                style=\"display:none;\">\n",
              "\n",
              "<svg xmlns=\"http://www.w3.org/2000/svg\" height=\"24px\"viewBox=\"0 0 24 24\"\n",
              "     width=\"24px\">\n",
              "    <g>\n",
              "        <path d=\"M19 3H5c-1.1 0-2 .9-2 2v14c0 1.1.9 2 2 2h14c1.1 0 2-.9 2-2V5c0-1.1-.9-2-2-2zM9 17H7v-7h2v7zm4 0h-2V7h2v10zm4 0h-2v-4h2v4z\"/>\n",
              "    </g>\n",
              "</svg>\n",
              "      </button>\n",
              "\n",
              "<style>\n",
              "  .colab-df-quickchart {\n",
              "      --bg-color: #E8F0FE;\n",
              "      --fill-color: #1967D2;\n",
              "      --hover-bg-color: #E2EBFA;\n",
              "      --hover-fill-color: #174EA6;\n",
              "      --disabled-fill-color: #AAA;\n",
              "      --disabled-bg-color: #DDD;\n",
              "  }\n",
              "\n",
              "  [theme=dark] .colab-df-quickchart {\n",
              "      --bg-color: #3B4455;\n",
              "      --fill-color: #D2E3FC;\n",
              "      --hover-bg-color: #434B5C;\n",
              "      --hover-fill-color: #FFFFFF;\n",
              "      --disabled-bg-color: #3B4455;\n",
              "      --disabled-fill-color: #666;\n",
              "  }\n",
              "\n",
              "  .colab-df-quickchart {\n",
              "    background-color: var(--bg-color);\n",
              "    border: none;\n",
              "    border-radius: 50%;\n",
              "    cursor: pointer;\n",
              "    display: none;\n",
              "    fill: var(--fill-color);\n",
              "    height: 32px;\n",
              "    padding: 0;\n",
              "    width: 32px;\n",
              "  }\n",
              "\n",
              "  .colab-df-quickchart:hover {\n",
              "    background-color: var(--hover-bg-color);\n",
              "    box-shadow: 0 1px 2px rgba(60, 64, 67, 0.3), 0 1px 3px 1px rgba(60, 64, 67, 0.15);\n",
              "    fill: var(--button-hover-fill-color);\n",
              "  }\n",
              "\n",
              "  .colab-df-quickchart-complete:disabled,\n",
              "  .colab-df-quickchart-complete:disabled:hover {\n",
              "    background-color: var(--disabled-bg-color);\n",
              "    fill: var(--disabled-fill-color);\n",
              "    box-shadow: none;\n",
              "  }\n",
              "\n",
              "  .colab-df-spinner {\n",
              "    border: 2px solid var(--fill-color);\n",
              "    border-color: transparent;\n",
              "    border-bottom-color: var(--fill-color);\n",
              "    animation:\n",
              "      spin 1s steps(1) infinite;\n",
              "  }\n",
              "\n",
              "  @keyframes spin {\n",
              "    0% {\n",
              "      border-color: transparent;\n",
              "      border-bottom-color: var(--fill-color);\n",
              "      border-left-color: var(--fill-color);\n",
              "    }\n",
              "    20% {\n",
              "      border-color: transparent;\n",
              "      border-left-color: var(--fill-color);\n",
              "      border-top-color: var(--fill-color);\n",
              "    }\n",
              "    30% {\n",
              "      border-color: transparent;\n",
              "      border-left-color: var(--fill-color);\n",
              "      border-top-color: var(--fill-color);\n",
              "      border-right-color: var(--fill-color);\n",
              "    }\n",
              "    40% {\n",
              "      border-color: transparent;\n",
              "      border-right-color: var(--fill-color);\n",
              "      border-top-color: var(--fill-color);\n",
              "    }\n",
              "    60% {\n",
              "      border-color: transparent;\n",
              "      border-right-color: var(--fill-color);\n",
              "    }\n",
              "    80% {\n",
              "      border-color: transparent;\n",
              "      border-right-color: var(--fill-color);\n",
              "      border-bottom-color: var(--fill-color);\n",
              "    }\n",
              "    90% {\n",
              "      border-color: transparent;\n",
              "      border-bottom-color: var(--fill-color);\n",
              "    }\n",
              "  }\n",
              "</style>\n",
              "\n",
              "      <script>\n",
              "        async function quickchart(key) {\n",
              "          const quickchartButtonEl =\n",
              "            document.querySelector('#' + key + ' button');\n",
              "          quickchartButtonEl.disabled = true;  // To prevent multiple clicks.\n",
              "          quickchartButtonEl.classList.add('colab-df-spinner');\n",
              "          try {\n",
              "            const charts = await google.colab.kernel.invokeFunction(\n",
              "                'suggestCharts', [key], {});\n",
              "          } catch (error) {\n",
              "            console.error('Error during call to suggestCharts:', error);\n",
              "          }\n",
              "          quickchartButtonEl.classList.remove('colab-df-spinner');\n",
              "          quickchartButtonEl.classList.add('colab-df-quickchart-complete');\n",
              "        }\n",
              "        (() => {\n",
              "          let quickchartButtonEl =\n",
              "            document.querySelector('#df-fb7d644b-c0ee-4fc4-9698-b4121f246d0e button');\n",
              "          quickchartButtonEl.style.display =\n",
              "            google.colab.kernel.accessAllowed ? 'block' : 'none';\n",
              "        })();\n",
              "      </script>\n",
              "    </div>\n",
              "\n",
              "    </div>\n",
              "  </div>\n"
            ],
            "application/vnd.google.colaboratory.intrinsic+json": {
              "type": "dataframe",
              "variable_name": "df",
              "summary": "{\n  \"name\": \"df\",\n  \"rows\": 5000,\n  \"fields\": [\n    {\n      \"column\": \"Operator_ID\",\n      \"properties\": {\n        \"dtype\": \"category\",\n        \"num_unique_values\": 200,\n        \"samples\": [\n          \"OP1110\",\n          \"OP1152\",\n          \"OP1019\"\n        ],\n        \"semantic_type\": \"\",\n        \"description\": \"\"\n      }\n    },\n    {\n      \"column\": \"Experience_Yrs\",\n      \"properties\": {\n        \"dtype\": \"number\",\n        \"std\": 1.9532793030202147,\n        \"min\": 0.0,\n        \"max\": 10.0,\n        \"num_unique_values\": 100,\n        \"samples\": [\n          0.5,\n          2.0,\n          0.1\n        ],\n        \"semantic_type\": \"\",\n        \"description\": \"\"\n      }\n    },\n    {\n      \"column\": \"Familiarity_Score\",\n      \"properties\": {\n        \"dtype\": \"number\",\n        \"std\": 0.23215191306157204,\n        \"min\": 0.01,\n        \"max\": 1.0,\n        \"num_unique_values\": 100,\n        \"samples\": [\n          0.47,\n          0.85,\n          0.2\n        ],\n        \"semantic_type\": \"\",\n        \"description\": \"\"\n      }\n    },\n    {\n      \"column\": \"Safety_Score\",\n      \"properties\": {\n        \"dtype\": \"number\",\n        \"std\": 0.23677596261296,\n        \"min\": 0.01,\n        \"max\": 1.0,\n        \"num_unique_values\": 100,\n        \"samples\": [\n          0.66,\n          0.3,\n          0.54\n        ],\n        \"semantic_type\": \"\",\n        \"description\": \"\"\n      }\n    },\n    {\n      \"column\": \"Fatigue_Score\",\n      \"properties\": {\n        \"dtype\": \"number\",\n        \"std\": 0.20067824260594608,\n        \"min\": 0.0,\n        \"max\": 0.95,\n        \"num_unique_values\": 95,\n        \"samples\": [\n          0.37,\n          0.48,\n          0.71\n        ],\n        \"semantic_type\": \"\",\n        \"description\": \"\"\n      }\n    },\n    {\n      \"column\": \"Previous_Accident_Count\",\n      \"properties\": {\n        \"dtype\": \"number\",\n        \"std\": 0,\n        \"min\": 0,\n        \"max\": 4,\n        \"num_unique_values\": 5,\n        \"samples\": [\n          2,\n          4,\n          1\n        ],\n        \"semantic_type\": \"\",\n        \"description\": \"\"\n      }\n    },\n    {\n      \"column\": \"Tasks_Completed_Count\",\n      \"properties\": {\n        \"dtype\": \"number\",\n        \"std\": 49,\n        \"min\": -23,\n        \"max\": 262,\n        \"num_unique_values\": 267,\n        \"samples\": [\n          149,\n          55,\n          235\n        ],\n        \"semantic_type\": \"\",\n        \"description\": \"\"\n      }\n    },\n    {\n      \"column\": \"Task_Type\",\n      \"properties\": {\n        \"dtype\": \"category\",\n        \"num_unique_values\": 5,\n        \"samples\": [\n          \"Lift\",\n          \"Dig\",\n          \"Carry\"\n        ],\n        \"semantic_type\": \"\",\n        \"description\": \"\"\n      }\n    },\n    {\n      \"column\": \"Terrain\",\n      \"properties\": {\n        \"dtype\": \"category\",\n        \"num_unique_values\": 4,\n        \"samples\": [\n          \"Muddy\",\n          \"Gravel\",\n          \"Rocky\"\n        ],\n        \"semantic_type\": \"\",\n        \"description\": \"\"\n      }\n    },\n    {\n      \"column\": \"Task_Complexity_Level\",\n      \"properties\": {\n        \"dtype\": \"category\",\n        \"num_unique_values\": 3,\n        \"samples\": [\n          \"Medium\",\n          \"Low\",\n          \"High\"\n        ],\n        \"semantic_type\": \"\",\n        \"description\": \"\"\n      }\n    },\n    {\n      \"column\": \"Max_Allowed_Time\",\n      \"properties\": {\n        \"dtype\": \"number\",\n        \"std\": 10.136679755875617,\n        \"min\": 8.98,\n        \"max\": 80.06,\n        \"num_unique_values\": 2811,\n        \"samples\": [\n          66.3,\n          32.51,\n          29.54\n        ],\n        \"semantic_type\": \"\",\n        \"description\": \"\"\n      }\n    },\n    {\n      \"column\": \"Weather_Condition\",\n      \"properties\": {\n        \"dtype\": \"category\",\n        \"num_unique_values\": 4,\n        \"samples\": [\n          \"Sunny\",\n          \"Cloudy\",\n          \"Rainy\"\n        ],\n        \"semantic_type\": \"\",\n        \"description\": \"\"\n      }\n    },\n    {\n      \"column\": \"Machine_Type\",\n      \"properties\": {\n        \"dtype\": \"category\",\n        \"num_unique_values\": 4,\n        \"samples\": [\n          \"EXC001\",\n          \"BLD004\",\n          \"DZR002\"\n        ],\n        \"semantic_type\": \"\",\n        \"description\": \"\"\n      }\n    },\n    {\n      \"column\": \"Time_Taken\",\n      \"properties\": {\n        \"dtype\": \"number\",\n        \"std\": 13.971150968899423,\n        \"min\": 8.94,\n        \"max\": 111.96,\n        \"num_unique_values\": 3191,\n        \"samples\": [\n          34.25,\n          37.19,\n          67.11\n        ],\n        \"semantic_type\": \"\",\n        \"description\": \"\"\n      }\n    },\n    {\n      \"column\": \"Is_Good_Match\",\n      \"properties\": {\n        \"dtype\": \"number\",\n        \"std\": 0,\n        \"min\": 0,\n        \"max\": 1,\n        \"num_unique_values\": 2,\n        \"samples\": [\n          1,\n          0\n        ],\n        \"semantic_type\": \"\",\n        \"description\": \"\"\n      }\n    },\n    {\n      \"column\": \"Shift_Hours_Worked\",\n      \"properties\": {\n        \"dtype\": \"number\",\n        \"std\": 1,\n        \"min\": 6,\n        \"max\": 12,\n        \"num_unique_values\": 7,\n        \"samples\": [\n          6,\n          9\n        ],\n        \"semantic_type\": \"\",\n        \"description\": \"\"\n      }\n    },\n    {\n      \"column\": \"Operator_Preference_Level\",\n      \"properties\": {\n        \"dtype\": \"category\",\n        \"num_unique_values\": 3,\n        \"samples\": [\n          \"Low\",\n          \"Medium\"\n        ],\n        \"semantic_type\": \"\",\n        \"description\": \"\"\n      }\n    },\n    {\n      \"column\": \"Seatbelt_Compliance_Rate\",\n      \"properties\": {\n        \"dtype\": \"number\",\n        \"std\": 0.20672880165929347,\n        \"min\": 0.05,\n        \"max\": 1.0,\n        \"num_unique_values\": 95,\n        \"samples\": [\n          0.59,\n          0.73\n        ],\n        \"semantic_type\": \"\",\n        \"description\": \"\"\n      }\n    }\n  ]\n}"
            }
          },
          "metadata": {},
          "execution_count": 53
        }
      ]
    },
    {
      "cell_type": "markdown",
      "source": [
        "# Display Column Names\n",
        "Quick check to view all column names in the dataset for understanding structure.\n"
      ],
      "metadata": {
        "id": "QB9UrJQJ9Ee_"
      }
    },
    {
      "cell_type": "code",
      "source": [
        "df.columns"
      ],
      "metadata": {
        "colab": {
          "base_uri": "https://localhost:8080/"
        },
        "id": "nt5EqmNiL0uJ",
        "outputId": "d076abc1-2cb2-446e-bd3b-c8622aa37f85"
      },
      "execution_count": null,
      "outputs": [
        {
          "output_type": "execute_result",
          "data": {
            "text/plain": [
              "Index(['Operator_ID', 'Experience_Yrs', 'Familiarity_Score', 'Safety_Score',\n",
              "       'Fatigue_Score', 'Previous_Accident_Count', 'Tasks_Completed_Count',\n",
              "       'Task_Type', 'Terrain', 'Task_Complexity_Level', 'Max_Allowed_Time',\n",
              "       'Weather_Condition', 'Machine_Type', 'Time_Taken', 'Is_Good_Match',\n",
              "       'Shift_Hours_Worked', 'Operator_Preference_Level',\n",
              "       'Seatbelt_Compliance_Rate'],\n",
              "      dtype='object')"
            ]
          },
          "metadata": {},
          "execution_count": 63
        }
      ]
    },
    {
      "cell_type": "markdown",
      "source": [
        "# Step 4: View Unique Categories\n",
        "Print unique values in task type and machine type to understand categorical features.\n"
      ],
      "metadata": {
        "id": "c4M3-oNf9KsI"
      }
    },
    {
      "cell_type": "code",
      "source": [
        "print(\"✅ Unique task types:\", df['Task_Type'].unique())\n",
        "print(\"✅ Unique machine types:\", df['Machine_Type'].unique())"
      ],
      "metadata": {
        "colab": {
          "base_uri": "https://localhost:8080/"
        },
        "id": "N-qu4C5eKOz_",
        "outputId": "04a1215a-452b-459e-ce7b-4f61d3a32412"
      },
      "execution_count": null,
      "outputs": [
        {
          "output_type": "stream",
          "name": "stdout",
          "text": [
            "✅ Unique task types: ['Load' 'Lift' 'Carry' 'Dump' 'Dig']\n",
            "✅ Unique machine types: ['DZR002' 'EXC001' 'LDR003' 'BLD004']\n"
          ]
        }
      ]
    },
    {
      "cell_type": "markdown",
      "source": [
        "# Step 5: Label Encoding\n",
        "Convert categorical columns to numeric using label encoding for ML compatibility.\n"
      ],
      "metadata": {
        "id": "Onu1AFyG9hHr"
      }
    },
    {
      "cell_type": "code",
      "source": [
        "# 📌 Step 3: Label Encoding for categoricals\n",
        "categorical_cols = ['Operator_ID', 'Task_Type', 'Terrain', 'Task_Complexity_Level',\n",
        "                    'Weather_Condition', 'Machine_Type', 'Operator_Preference_Level']\n",
        "\n",
        "label_encoders = {}\n",
        "for col in categorical_cols:\n",
        "    le = LabelEncoder()\n",
        "    df[col] = le.fit_transform(df[col])\n",
        "    label_encoders[col] = le  # Save encoder"
      ],
      "metadata": {
        "id": "0OGZQpFu9aj3"
      },
      "execution_count": null,
      "outputs": []
    },
    {
      "cell_type": "markdown",
      "source": [
        "# Step 6: Feature/Target Split"
      ],
      "metadata": {
        "id": "6O52ZM9J9-I7"
      }
    },
    {
      "cell_type": "markdown",
      "source": [],
      "metadata": {
        "id": "XyZGpCb19-HF"
      }
    },
    {
      "cell_type": "code",
      "source": [
        "# 📌 Step 6: Feature/Target Split\n",
        "feature_cols = [col for col in df.columns if col not in ['Is_Good_Match', 'Time_Taken']]\n",
        "X = df[feature_cols]"
      ],
      "metadata": {
        "id": "CrU2n_x497LZ"
      },
      "execution_count": null,
      "outputs": []
    },
    {
      "cell_type": "markdown",
      "source": [
        "# Define target column for both models"
      ],
      "metadata": {
        "id": "rA3XgTng-je7"
      }
    },
    {
      "cell_type": "code",
      "source": [
        "# Classification target\n",
        "y_class = df['Is_Good_Match']\n",
        "\n",
        "# Regression target\n",
        "y_reg = df['Time_Taken']"
      ],
      "metadata": {
        "id": "NaLFCG1S-KZP"
      },
      "execution_count": null,
      "outputs": []
    },
    {
      "cell_type": "markdown",
      "source": [
        "# Train-Test Split"
      ],
      "metadata": {
        "id": "DDNlP84s-xW7"
      }
    },
    {
      "cell_type": "code",
      "source": [
        "\n",
        "X_train_c, X_test_c, y_train_c, y_test_c = train_test_split(X, y_class, test_size=0.2, random_state=42)\n",
        "X_train_r, X_test_r, y_train_r, y_test_r = train_test_split(X, y_reg, test_size=0.2, random_state=42)\n"
      ],
      "metadata": {
        "id": "g71eddtU-LyA"
      },
      "execution_count": null,
      "outputs": []
    },
    {
      "cell_type": "markdown",
      "source": [
        "# Feature Scaling"
      ],
      "metadata": {
        "id": "8A3gYy-n-1xP"
      }
    },
    {
      "cell_type": "code",
      "source": [
        "# 📌 Step 6: Feature Scaling\n",
        "scaler = StandardScaler()\n",
        "X_train_c = scaler.fit_transform(X_train_c)\n",
        "X_test_c = scaler.transform(X_test_c)\n",
        "X_train_r = scaler.fit_transform(X_train_r)\n",
        "X_test_r = scaler.transform(X_test_r)"
      ],
      "metadata": {
        "id": "5D3zKoDG-Q0G"
      },
      "execution_count": null,
      "outputs": []
    },
    {
      "cell_type": "markdown",
      "source": [
        "# Train Classification Model"
      ],
      "metadata": {
        "id": "zgWt6oVf--PU"
      }
    },
    {
      "cell_type": "code",
      "source": [
        "# 📌 Step 7: Train Classification Model\n",
        "clf = RandomForestClassifier(random_state=42)\n",
        "clf.fit(X_train_c, y_train_c)\n",
        "y_pred_c = clf.predict(X_test_c)\n",
        "print(\"🎯 Classification Accuracy:\", accuracy_score(y_test_c, y_pred_c))\n"
      ],
      "metadata": {
        "id": "q090gQ39-T9m"
      },
      "execution_count": null,
      "outputs": []
    },
    {
      "cell_type": "markdown",
      "source": [
        "# Train Regression Model"
      ],
      "metadata": {
        "id": "Iw72DYK1_D7F"
      }
    },
    {
      "cell_type": "code",
      "source": [
        "# 📌 Step 8: Train Regression Model\n",
        "reg = RandomForestRegressor(random_state=42)\n",
        "reg.fit(X_train_r, y_train_r)\n",
        "y_pred_r = reg.predict(X_test_r)\n",
        "print(\"🕒 Regression MAE:\", mean_absolute_error(y_test_r, y_pred_r))\n"
      ],
      "metadata": {
        "id": "RhXbaVyx-WPt"
      },
      "execution_count": null,
      "outputs": []
    },
    {
      "cell_type": "markdown",
      "source": [
        "# Save ordered feature names"
      ],
      "metadata": {
        "id": "HJ-u-ED6_HiE"
      }
    },
    {
      "cell_type": "code",
      "source": [
        "# Save ordered feature names\n",
        "ordered_features = X.columns.tolist()\n",
        "\n",
        "# Save everything\n",
        "joblib.dump(clf, 'classifier_model.pkl')\n",
        "joblib.dump(reg, 'regression_model.pkl')\n",
        "joblib.dump(scaler, 'scaler.pkl')\n",
        "joblib.dump(label_encoders, 'label_encoders.pkl')\n",
        "joblib.dump(ordered_features, 'ordered_features.pkl')  # 👈 Add this line\n",
        "\n",
        "print(\"✅ Models saved successfully!\")\n"
      ],
      "metadata": {
        "colab": {
          "base_uri": "https://localhost:8080/"
        },
        "id": "TZ3ot3I_YzYm",
        "outputId": "6629cb31-c542-41a4-c1cb-7d32bece99d7"
      },
      "execution_count": null,
      "outputs": [
        {
          "output_type": "stream",
          "name": "stdout",
          "text": [
            "🎯 Classification Accuracy: 0.911\n",
            "🕒 Regression MAE: 2.7734616\n",
            "✅ Models saved successfully!\n"
          ]
        }
      ]
    },
    {
      "cell_type": "markdown",
      "source": [
        "# Load Ordered Features"
      ],
      "metadata": {
        "id": "Pj6QfsmR_OCM"
      }
    },
    {
      "cell_type": "code",
      "source": [
        "ordered_features = joblib.load(\"ordered_features.pkl\")  # 👈 Add this line\n"
      ],
      "metadata": {
        "id": "9tpIAP6vfr9W"
      },
      "execution_count": null,
      "outputs": []
    },
    {
      "cell_type": "markdown",
      "source": [
        "# Define Prediction Function"
      ],
      "metadata": {
        "id": "8yYO7jwP_URf"
      }
    },
    {
      "cell_type": "code",
      "source": [
        "def predict_operator_fit_and_time(input_data):\n",
        "    X_input = preprocess_input(\n",
        "        operator_id=input_data[\"operator_id\"],\n",
        "        task_type=input_data[\"task_type\"],\n",
        "        skill_level=input_data[\"skill_level\"],\n",
        "        machine_type=input_data[\"machine_type\"],\n",
        "        success_rate=input_data[\"success_rate\"]\n",
        "    )\n",
        "    is_good_match = clf.predict(X_input)[0]\n",
        "    estimated_time = reg.predict(X_input)[0]\n",
        "    return {\n",
        "        \"task_id\": input_data[\"task_id\"],\n",
        "        \"is_good_match\": bool(is_good_match),\n",
        "        \"estimated_time\": round(estimated_time, 2)\n",
        "    }\n"
      ],
      "metadata": {
        "id": "GceKXyGkdO7R"
      },
      "execution_count": null,
      "outputs": []
    },
    {
      "cell_type": "markdown",
      "source": [
        "# Load Models and Encoders\n"
      ],
      "metadata": {
        "id": "tkXrjXdA_aZl"
      }
    },
    {
      "cell_type": "code",
      "source": [
        "import joblib\n",
        "import numpy as np\n",
        "\n",
        "# Load trained models and preprocessors\n",
        "clf = joblib.load(\"classifier_model.pkl\")\n",
        "reg = joblib.load(\"regression_model.pkl\")\n",
        "scaler = joblib.load(\"scaler.pkl\")\n",
        "label_encoders = joblib.load(\"label_encoders.pkl\")\n",
        "\n",
        "# Define mapping for skill level\n",
        "skill_to_exp = {\"beginner\": 1.5, \"intermediate\": 3.5, \"expert\": 5.5}\n",
        "skill_to_familiarity = {\"beginner\": 0.5, \"intermediate\": 0.75, \"expert\": 0.9}\n",
        "skill_to_pref = {\"beginner\": \"Low\", \"intermediate\": \"Medium\", \"expert\": \"High\"}\n",
        "\n",
        "# ✅ Input from Streamlit-like form\n",
        "input_data = {\n",
        "    \"task_id\": \"TASK001\",\n",
        "    \"operator_id\": \"OP1059\",\n",
        "    \"task_type\": \"Load\",\n",
        "    \"skill_level\": \"expert\",\n",
        "    \"machine_type\": \"DZR002\",\n",
        "    \"success_rate\": 85\n",
        "}\n",
        "\n",
        "# Function to preprocess and create feature vector\n",
        "def preprocess_input(operator_id, task_type, skill_level, machine_type, success_rate):\n",
        "    row = {\n",
        "        \"Operator_ID\": operator_id,\n",
        "        \"Experience_Yrs\": skill_to_exp[skill_level],\n",
        "        \"Familiarity_Score\": skill_to_familiarity[skill_level],\n",
        "        \"Safety_Score\": 0.85,\n",
        "        \"Fatigue_Score\": 0.2,\n",
        "        \"Previous_Accident_Count\": 0,\n",
        "        \"Tasks_Completed_Count\": int(success_rate),\n",
        "        \"Task_Type\": task_type,\n",
        "        \"Terrain\": \"Rocky\",\n",
        "        \"Task_Complexity_Level\": \"Medium\",\n",
        "        \"Max_Allowed_Time\": 50.0,\n",
        "        \"Weather_Condition\": \"Sunny\",\n",
        "        \"Machine_Type\": machine_type,\n",
        "        \"Shift_Hours_Worked\": 8,\n",
        "        \"Operator_Preference_Level\": skill_to_pref[skill_level],\n",
        "        \"Seatbelt_Compliance_Rate\": 0.9,\n",
        "    }\n",
        "\n",
        "    # Apply label encoding\n",
        "    for col in label_encoders:\n",
        "        row[col] = label_encoders[col].transform([row[col]])[0]\n",
        "\n",
        "    # Arrange features in correct order\n",
        "    global ordered_features  # if defined outside\n",
        "    X = np.array([[row[col] for col in ordered_features]])\n",
        "\n",
        "    # Scale numeric features\n",
        "    X_scaled = scaler.transform(X)\n",
        "    return X_scaled\n",
        "\n",
        "# Preprocess and predict\n",
        "X_input = preprocess_input(\n",
        "    operator_id=input_data[\"operator_id\"],\n",
        "    task_type=input_data[\"task_type\"],\n",
        "    skill_level=input_data[\"skill_level\"],\n",
        "    machine_type=input_data[\"machine_type\"],\n",
        "    success_rate=input_data[\"success_rate\"]\n",
        ")\n",
        "\n",
        "# Classification (Is Good Match)\n",
        "is_good_match = clf.predict(X_input)[0]\n",
        "\n",
        "# Regression (Estimated Time)\n",
        "estimated_time = reg.predict(X_input)[0]\n",
        "\n",
        "# ✅ Final result\n",
        "result = {\n",
        "    \"task_id\": input_data[\"task_id\"],\n",
        "    \"is_good_match\": bool(is_good_match),\n",
        "    \"estimated_time\": round(estimated_time, 2)\n",
        "}\n",
        "\n",
        "print(\"🎯 Prediction Result:\")\n",
        "print(result)\n"
      ],
      "metadata": {
        "colab": {
          "base_uri": "https://localhost:8080/"
        },
        "id": "OaXEahPmdTHB",
        "outputId": "9e71664b-7c84-482f-dc5c-88383b209a7f"
      },
      "execution_count": null,
      "outputs": [
        {
          "output_type": "stream",
          "name": "stdout",
          "text": [
            "🎯 Prediction Result:\n",
            "{'task_id': 'TASK001', 'is_good_match': False, 'estimated_time': np.float64(56.98)}\n"
          ]
        },
        {
          "output_type": "stream",
          "name": "stderr",
          "text": [
            "/usr/local/lib/python3.11/dist-packages/sklearn/utils/validation.py:2739: UserWarning: X does not have valid feature names, but StandardScaler was fitted with feature names\n",
            "  warnings.warn(\n"
          ]
        }
      ]
    },
    {
      "cell_type": "markdown",
      "source": [
        "Sample Input #1\n"
      ],
      "metadata": {
        "id": "GQEtKzT__gde"
      }
    },
    {
      "cell_type": "code",
      "source": [
        "input_data = {\n",
        "    \"task_id\": \"TASK_A1\",\n",
        "    \"operator_id\": \"OP1002\",\n",
        "    \"task_type\": \"Dig\",\n",
        "    \"skill_level\": \"expert\",\n",
        "    \"machine_type\": \"DZR002\",  # ✅ known machine type\n",
        "    \"success_rate\": 95\n",
        "}\n",
        "\n",
        "X_input = preprocess_input(\n",
        "    operator_id=input_data[\"operator_id\"],\n",
        "    task_type=input_data[\"task_type\"],\n",
        "    skill_level=input_data[\"skill_level\"],\n",
        "    machine_type=input_data[\"machine_type\"],\n",
        "    success_rate=input_data[\"success_rate\"]\n",
        ")\n",
        "\n",
        "is_good_match = clf.predict(X_input)[0]\n",
        "estimated_time = reg.predict(X_input)[0]\n",
        "\n",
        "result = {\n",
        "    \"task_id\": input_data[\"task_id\"],\n",
        "    \"is_good_match\": bool(is_good_match),\n",
        "    \"estimated_time\": round(estimated_time, 2)\n",
        "}\n",
        "\n",
        "print(\"🎯 Prediction Result:\")\n",
        "print(result)\n"
      ],
      "metadata": {
        "colab": {
          "base_uri": "https://localhost:8080/"
        },
        "id": "Yp7n76KEe936",
        "outputId": "a1c1e5de-71c0-46e4-afdb-d442a847ed49"
      },
      "execution_count": null,
      "outputs": [
        {
          "output_type": "stream",
          "name": "stdout",
          "text": [
            "🎯 Prediction Result:\n",
            "{'task_id': 'TASK_A1', 'is_good_match': False, 'estimated_time': np.float64(56.66)}\n"
          ]
        },
        {
          "output_type": "stream",
          "name": "stderr",
          "text": [
            "/usr/local/lib/python3.11/dist-packages/sklearn/utils/validation.py:2739: UserWarning: X does not have valid feature names, but StandardScaler was fitted with feature names\n",
            "  warnings.warn(\n"
          ]
        }
      ]
    },
    {
      "cell_type": "markdown",
      "source": [
        "# Sample Input #2\n"
      ],
      "metadata": {
        "id": "8q8ubidT_mD0"
      }
    },
    {
      "cell_type": "code",
      "source": [
        "input_data = {\n",
        "    \"task_id\": \"TASK_B2\",\n",
        "    \"operator_id\": \"OP1011\",\n",
        "    \"task_type\": \"Dump\",\n",
        "    \"skill_level\": \"intermediate\",\n",
        "    \"machine_type\": \"LDR003\",  # ✅ known\n",
        "    \"success_rate\": 70\n",
        "}\n",
        "\n",
        "X_input = preprocess_input(\n",
        "    operator_id=input_data[\"operator_id\"],\n",
        "    task_type=input_data[\"task_type\"],\n",
        "    skill_level=input_data[\"skill_level\"],\n",
        "    machine_type=input_data[\"machine_type\"],\n",
        "    success_rate=input_data[\"success_rate\"]\n",
        ")\n",
        "\n",
        "is_good_match = clf.predict(X_input)[0]\n",
        "estimated_time = reg.predict(X_input)[0]\n",
        "\n",
        "result = {\n",
        "    \"task_id\": input_data[\"task_id\"],\n",
        "    \"is_good_match\": bool(is_good_match),\n",
        "    \"estimated_time\": round(estimated_time, 2)\n",
        "}\n",
        "\n",
        "print(\"🎯 Prediction Result:\")\n",
        "print(result)\n"
      ],
      "metadata": {
        "colab": {
          "base_uri": "https://localhost:8080/"
        },
        "id": "sdNduwVTvoxU",
        "outputId": "63689081-0836-4f82-d08d-be84fcdabd15"
      },
      "execution_count": null,
      "outputs": [
        {
          "output_type": "stream",
          "name": "stdout",
          "text": [
            "🎯 Prediction Result:\n",
            "{'task_id': 'TASK_B2', 'is_good_match': False, 'estimated_time': np.float64(58.84)}\n"
          ]
        },
        {
          "output_type": "stream",
          "name": "stderr",
          "text": [
            "/usr/local/lib/python3.11/dist-packages/sklearn/utils/validation.py:2739: UserWarning: X does not have valid feature names, but StandardScaler was fitted with feature names\n",
            "  warnings.warn(\n"
          ]
        }
      ]
    },
    {
      "cell_type": "code",
      "source": [
        "input_data = {\n",
        "    \"task_id\": \"TASK_B3\",\n",
        "    \"operator_id\": \"OP1024\",\n",
        "    \"task_type\": \"Dig\",\n",
        "    \"skill_level\": \"beginner\",\n",
        "    \"machine_type\": \"DZR002\",  # ✅ known\n",
        "    \"success_rate\": 45\n",
        "}\n",
        "\n",
        "X_input = preprocess_input(\n",
        "    operator_id=input_data[\"operator_id\"],\n",
        "    task_type=input_data[\"task_type\"],\n",
        "    skill_level=input_data[\"skill_level\"],\n",
        "    machine_type=input_data[\"machine_type\"],\n",
        "    success_rate=input_data[\"success_rate\"]\n",
        ")\n",
        "\n",
        "is_good_match = clf.predict(X_input)[0]\n",
        "estimated_time = reg.predict(X_input)[0]\n",
        "\n",
        "result = {\n",
        "    \"task_id\": input_data[\"task_id\"],\n",
        "    \"is_good_match\": bool(is_good_match),\n",
        "    \"estimated_time\": round(estimated_time, 2)\n",
        "}\n",
        "\n",
        "print(\"🎯 Prediction Result:\")\n",
        "print(result)\n"
      ],
      "metadata": {
        "colab": {
          "base_uri": "https://localhost:8080/"
        },
        "id": "COAs93X9vxIg",
        "outputId": "5f80b80c-f1a4-4d96-c733-7fb5ce3ac186"
      },
      "execution_count": null,
      "outputs": [
        {
          "output_type": "stream",
          "name": "stdout",
          "text": [
            "🎯 Prediction Result:\n",
            "{'task_id': 'TASK_B3', 'is_good_match': False, 'estimated_time': np.float64(60.14)}\n"
          ]
        },
        {
          "output_type": "stream",
          "name": "stderr",
          "text": [
            "/usr/local/lib/python3.11/dist-packages/sklearn/utils/validation.py:2739: UserWarning: X does not have valid feature names, but StandardScaler was fitted with feature names\n",
            "  warnings.warn(\n"
          ]
        }
      ]
    },
    {
      "cell_type": "code",
      "source": [
        "input_data = {\n",
        "    \"task_id\": \"TASK_C1\",\n",
        "    \"operator_id\": \"OP1050\",\n",
        "    \"task_type\": \"Dig\",\n",
        "    \"skill_level\": \"expert\",\n",
        "    \"machine_type\": \"DZR002\",  # ✅ known\n",
        "    \"success_rate\": 100         # ✅ very high\n",
        "}\n",
        "\n",
        "X_input = preprocess_input(\n",
        "    operator_id=input_data[\"operator_id\"],\n",
        "    task_type=input_data[\"task_type\"],\n",
        "    skill_level=input_data[\"skill_level\"],\n",
        "    machine_type=input_data[\"machine_type\"],\n",
        "    success_rate=input_data[\"success_rate\"]\n",
        ")\n",
        "\n",
        "is_good_match = clf.predict(X_input)[0]\n",
        "estimated_time = reg.predict(X_input)[0]\n",
        "\n",
        "result = {\n",
        "    \"task_id\": input_data[\"task_id\"],\n",
        "    \"is_good_match\": bool(is_good_match),\n",
        "    \"estimated_time\": round(estimated_time, 2)\n",
        "}\n",
        "\n",
        "print(\"🎯 Prediction Result:\")\n",
        "print(result)\n"
      ],
      "metadata": {
        "colab": {
          "base_uri": "https://localhost:8080/"
        },
        "id": "RsZEOn26v5Oh",
        "outputId": "8a402ac2-937c-4927-9093-ff9b5ac999fa"
      },
      "execution_count": null,
      "outputs": [
        {
          "output_type": "stream",
          "name": "stdout",
          "text": [
            "🎯 Prediction Result:\n",
            "{'task_id': 'TASK_C1', 'is_good_match': False, 'estimated_time': np.float64(56.36)}\n"
          ]
        },
        {
          "output_type": "stream",
          "name": "stderr",
          "text": [
            "/usr/local/lib/python3.11/dist-packages/sklearn/utils/validation.py:2739: UserWarning: X does not have valid feature names, but StandardScaler was fitted with feature names\n",
            "  warnings.warn(\n"
          ]
        }
      ]
    },
    {
      "cell_type": "markdown",
      "source": [
        "# Justified Reasons for Imperfect Predictions\n",
        "1. Limited or Imbalanced Dataset\n",
        "2. Operator ID and Categorical Encoding Bias\n",
        "3. Operator ID and Categorical Encoding Bias"
      ],
      "metadata": {
        "id": "HcwoiOh7__ve"
      }
    },
    {
      "cell_type": "code",
      "source": [],
      "metadata": {
        "id": "j1nzV4XjwF6s"
      },
      "execution_count": null,
      "outputs": []
    }
  ]
}